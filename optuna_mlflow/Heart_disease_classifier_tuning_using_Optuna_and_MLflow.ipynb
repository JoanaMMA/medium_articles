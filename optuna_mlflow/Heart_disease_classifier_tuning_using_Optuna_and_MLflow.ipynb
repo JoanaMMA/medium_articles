{
 "cells": [
  {
   "cell_type": "code",
   "execution_count": 1,
   "metadata": {
    "ExecuteTime": {
     "end_time": "2020-09-03T11:13:06.857762Z",
     "start_time": "2020-09-03T11:13:03.603864Z"
    }
   },
   "outputs": [],
   "source": [
    "# imports required for the example\n",
    "import pandas as pd\n",
    "\n",
    "# sklearn\n",
    "from sklearn.compose import ColumnTransformer\n",
    "from sklearn.pipeline import Pipeline\n",
    "from sklearn.impute import SimpleImputer\n",
    "from sklearn.preprocessing import StandardScaler\n",
    "from sklearn.ensemble import RandomForestClassifier\n",
    "from sklearn.model_selection import cross_val_score\n",
    "\n",
    "# category encoders package (see: https://contrib.scikit-learn.org/category_encoders/index.html)\n",
    "from category_encoders.leave_one_out import LeaveOneOutEncoder\n",
    "\n",
    "# optuna + visulization\n",
    "import optuna\n",
    "from optuna.integration.mlflow import MLflowCallback\n",
    "import plotly.graph_objects as go\n",
    "import ipywidgets as ipyw\n",
    "\n",
    "# autoreload extension\n",
    "if 'autoreload' not in get_ipython().extension_manager.loaded:\n",
    "    %load_ext autoreload\n",
    "    \n",
    "%autoreload 2\n",
    "\n",
    "# to manage the should_run_async(code) warning in relation to ipykernel and IPython\n",
    "import warnings\n",
    "warnings.filterwarnings('ignore')"
   ]
  },
  {
   "cell_type": "markdown",
   "metadata": {},
   "source": [
    "# Background\n",
    "\n",
    "Data science should be an enjoyable process focused on delivering insights and real benefits. However, this enjoyable process can sometimes get lost in tools and processes. Nowadays it is important for an applied data scientist to develop their own toolbox by selecting tools and software to cover things like data/code versioning, reproducible model development, experiment tracking, and model inspection - to name a few!  \n",
    "\n",
    "The purpose of this article is to briefly touch upon reproducible model development and experiment tracking through a worked example for tuning a Random Forest classifier using [Optuna](https://optuna.readthedocs.io/en/stable/index.html) and [mlflow](https://www.mlflow.org/docs/latest/index.html)."
   ]
  },
  {
   "cell_type": "markdown",
   "metadata": {},
   "source": [
    "## Loading the heart disease data and creating a pre-processing pipeline\n",
    "\n",
    "This example uses the heart disease data available in the [UCI ML archive](https://archive.ics.uci.edu/ml/datasets/heart+Disease). In my previous work I describe some processing done to create a semi-cleaned dataset: [developing a model for heart disease prediction using pycaret](https://towardsdatascience.com/developing-a-model-for-heart-disease-prediction-using-pycaret-9cdf03a66f42). In the csv file provided for this short worked example, I have additionally converted any nominal features with two values into a single binary feature where `_x` at the end of the feature name indicates the level represented by a value of 1. The target is called `hd_yes` and we want to tune a Random Forest classifier to predict heart disease.\n",
    "\n",
    "First let's load in the dataset and have a quick look."
   ]
  },
  {
   "cell_type": "code",
   "execution_count": 2,
   "metadata": {
    "ExecuteTime": {
     "end_time": "2020-09-03T11:13:07.781059Z",
     "start_time": "2020-09-03T11:13:07.610821Z"
    }
   },
   "outputs": [
    {
     "data": {
      "text/html": [
       "<div>\n",
       "<style scoped>\n",
       "    .dataframe tbody tr th:only-of-type {\n",
       "        vertical-align: middle;\n",
       "    }\n",
       "\n",
       "    .dataframe tbody tr th {\n",
       "        vertical-align: top;\n",
       "    }\n",
       "\n",
       "    .dataframe thead th {\n",
       "        text-align: right;\n",
       "    }\n",
       "</style>\n",
       "<table border=\"1\" class=\"dataframe\">\n",
       "  <thead>\n",
       "    <tr style=\"text-align: right;\">\n",
       "      <th></th>\n",
       "      <th>age</th>\n",
       "      <th>sex_male</th>\n",
       "      <th>chest_pain</th>\n",
       "      <th>resting_bp</th>\n",
       "      <th>serum_cholesterol</th>\n",
       "      <th>high_fasting_blood_sugar_yes</th>\n",
       "      <th>resting_ecg_not_normal</th>\n",
       "      <th>maximum_hr</th>\n",
       "      <th>exercise_induced_angina_yes</th>\n",
       "      <th>ST_depression_exercise_vs_rest</th>\n",
       "      <th>peak_exercise_ST_segment_slope_flat_downsloping</th>\n",
       "      <th>num_affected_major_vessels</th>\n",
       "      <th>thallium_stress_test_bf_defect</th>\n",
       "      <th>hd_yes</th>\n",
       "    </tr>\n",
       "  </thead>\n",
       "  <tbody>\n",
       "    <tr>\n",
       "      <th>0</th>\n",
       "      <td>63</td>\n",
       "      <td>1</td>\n",
       "      <td>anginal_pain</td>\n",
       "      <td>145</td>\n",
       "      <td>233.0</td>\n",
       "      <td>1</td>\n",
       "      <td>1</td>\n",
       "      <td>150</td>\n",
       "      <td>0</td>\n",
       "      <td>2.3</td>\n",
       "      <td>1</td>\n",
       "      <td>0.0</td>\n",
       "      <td>1.0</td>\n",
       "      <td>0</td>\n",
       "    </tr>\n",
       "    <tr>\n",
       "      <th>1</th>\n",
       "      <td>67</td>\n",
       "      <td>1</td>\n",
       "      <td>asymptomatic</td>\n",
       "      <td>160</td>\n",
       "      <td>286.0</td>\n",
       "      <td>0</td>\n",
       "      <td>1</td>\n",
       "      <td>108</td>\n",
       "      <td>1</td>\n",
       "      <td>1.5</td>\n",
       "      <td>1</td>\n",
       "      <td>3.0</td>\n",
       "      <td>0.0</td>\n",
       "      <td>1</td>\n",
       "    </tr>\n",
       "    <tr>\n",
       "      <th>2</th>\n",
       "      <td>67</td>\n",
       "      <td>1</td>\n",
       "      <td>asymptomatic</td>\n",
       "      <td>120</td>\n",
       "      <td>229.0</td>\n",
       "      <td>0</td>\n",
       "      <td>1</td>\n",
       "      <td>129</td>\n",
       "      <td>1</td>\n",
       "      <td>2.6</td>\n",
       "      <td>1</td>\n",
       "      <td>2.0</td>\n",
       "      <td>1.0</td>\n",
       "      <td>1</td>\n",
       "    </tr>\n",
       "    <tr>\n",
       "      <th>3</th>\n",
       "      <td>37</td>\n",
       "      <td>1</td>\n",
       "      <td>non_anginal_pain</td>\n",
       "      <td>130</td>\n",
       "      <td>250.0</td>\n",
       "      <td>0</td>\n",
       "      <td>0</td>\n",
       "      <td>187</td>\n",
       "      <td>0</td>\n",
       "      <td>3.5</td>\n",
       "      <td>1</td>\n",
       "      <td>0.0</td>\n",
       "      <td>0.0</td>\n",
       "      <td>0</td>\n",
       "    </tr>\n",
       "    <tr>\n",
       "      <th>4</th>\n",
       "      <td>41</td>\n",
       "      <td>0</td>\n",
       "      <td>anginal_pain</td>\n",
       "      <td>130</td>\n",
       "      <td>204.0</td>\n",
       "      <td>0</td>\n",
       "      <td>1</td>\n",
       "      <td>172</td>\n",
       "      <td>0</td>\n",
       "      <td>1.4</td>\n",
       "      <td>0</td>\n",
       "      <td>0.0</td>\n",
       "      <td>0.0</td>\n",
       "      <td>0</td>\n",
       "    </tr>\n",
       "    <tr>\n",
       "      <th>5</th>\n",
       "      <td>56</td>\n",
       "      <td>1</td>\n",
       "      <td>anginal_pain</td>\n",
       "      <td>120</td>\n",
       "      <td>236.0</td>\n",
       "      <td>0</td>\n",
       "      <td>0</td>\n",
       "      <td>178</td>\n",
       "      <td>0</td>\n",
       "      <td>0.8</td>\n",
       "      <td>0</td>\n",
       "      <td>0.0</td>\n",
       "      <td>0.0</td>\n",
       "      <td>0</td>\n",
       "    </tr>\n",
       "    <tr>\n",
       "      <th>6</th>\n",
       "      <td>62</td>\n",
       "      <td>0</td>\n",
       "      <td>asymptomatic</td>\n",
       "      <td>140</td>\n",
       "      <td>268.0</td>\n",
       "      <td>0</td>\n",
       "      <td>1</td>\n",
       "      <td>160</td>\n",
       "      <td>0</td>\n",
       "      <td>3.6</td>\n",
       "      <td>1</td>\n",
       "      <td>2.0</td>\n",
       "      <td>0.0</td>\n",
       "      <td>1</td>\n",
       "    </tr>\n",
       "    <tr>\n",
       "      <th>7</th>\n",
       "      <td>57</td>\n",
       "      <td>0</td>\n",
       "      <td>asymptomatic</td>\n",
       "      <td>120</td>\n",
       "      <td>354.0</td>\n",
       "      <td>0</td>\n",
       "      <td>0</td>\n",
       "      <td>163</td>\n",
       "      <td>1</td>\n",
       "      <td>0.6</td>\n",
       "      <td>0</td>\n",
       "      <td>0.0</td>\n",
       "      <td>0.0</td>\n",
       "      <td>0</td>\n",
       "    </tr>\n",
       "    <tr>\n",
       "      <th>8</th>\n",
       "      <td>63</td>\n",
       "      <td>1</td>\n",
       "      <td>asymptomatic</td>\n",
       "      <td>130</td>\n",
       "      <td>254.0</td>\n",
       "      <td>0</td>\n",
       "      <td>1</td>\n",
       "      <td>147</td>\n",
       "      <td>0</td>\n",
       "      <td>1.4</td>\n",
       "      <td>1</td>\n",
       "      <td>1.0</td>\n",
       "      <td>1.0</td>\n",
       "      <td>1</td>\n",
       "    </tr>\n",
       "    <tr>\n",
       "      <th>9</th>\n",
       "      <td>53</td>\n",
       "      <td>1</td>\n",
       "      <td>asymptomatic</td>\n",
       "      <td>140</td>\n",
       "      <td>203.0</td>\n",
       "      <td>1</td>\n",
       "      <td>1</td>\n",
       "      <td>155</td>\n",
       "      <td>1</td>\n",
       "      <td>3.1</td>\n",
       "      <td>1</td>\n",
       "      <td>0.0</td>\n",
       "      <td>1.0</td>\n",
       "      <td>1</td>\n",
       "    </tr>\n",
       "  </tbody>\n",
       "</table>\n",
       "</div>"
      ],
      "text/plain": [
       "   age  sex_male        chest_pain  resting_bp  serum_cholesterol  \\\n",
       "0   63         1      anginal_pain         145              233.0   \n",
       "1   67         1      asymptomatic         160              286.0   \n",
       "2   67         1      asymptomatic         120              229.0   \n",
       "3   37         1  non_anginal_pain         130              250.0   \n",
       "4   41         0      anginal_pain         130              204.0   \n",
       "5   56         1      anginal_pain         120              236.0   \n",
       "6   62         0      asymptomatic         140              268.0   \n",
       "7   57         0      asymptomatic         120              354.0   \n",
       "8   63         1      asymptomatic         130              254.0   \n",
       "9   53         1      asymptomatic         140              203.0   \n",
       "\n",
       "   high_fasting_blood_sugar_yes  resting_ecg_not_normal  maximum_hr  \\\n",
       "0                             1                       1         150   \n",
       "1                             0                       1         108   \n",
       "2                             0                       1         129   \n",
       "3                             0                       0         187   \n",
       "4                             0                       1         172   \n",
       "5                             0                       0         178   \n",
       "6                             0                       1         160   \n",
       "7                             0                       0         163   \n",
       "8                             0                       1         147   \n",
       "9                             1                       1         155   \n",
       "\n",
       "   exercise_induced_angina_yes  ST_depression_exercise_vs_rest  \\\n",
       "0                            0                             2.3   \n",
       "1                            1                             1.5   \n",
       "2                            1                             2.6   \n",
       "3                            0                             3.5   \n",
       "4                            0                             1.4   \n",
       "5                            0                             0.8   \n",
       "6                            0                             3.6   \n",
       "7                            1                             0.6   \n",
       "8                            0                             1.4   \n",
       "9                            1                             3.1   \n",
       "\n",
       "   peak_exercise_ST_segment_slope_flat_downsloping  \\\n",
       "0                                                1   \n",
       "1                                                1   \n",
       "2                                                1   \n",
       "3                                                1   \n",
       "4                                                0   \n",
       "5                                                0   \n",
       "6                                                1   \n",
       "7                                                0   \n",
       "8                                                1   \n",
       "9                                                1   \n",
       "\n",
       "   num_affected_major_vessels  thallium_stress_test_bf_defect  hd_yes  \n",
       "0                         0.0                             1.0       0  \n",
       "1                         3.0                             0.0       1  \n",
       "2                         2.0                             1.0       1  \n",
       "3                         0.0                             0.0       0  \n",
       "4                         0.0                             0.0       0  \n",
       "5                         0.0                             0.0       0  \n",
       "6                         2.0                             0.0       1  \n",
       "7                         0.0                             0.0       0  \n",
       "8                         1.0                             1.0       1  \n",
       "9                         0.0                             1.0       1  "
      ]
     },
     "execution_count": 2,
     "metadata": {},
     "output_type": "execute_result"
    }
   ],
   "source": [
    "hd_df = pd.read_csv('heart_disease_processed.csv')\n",
    "hd_df.head(10)"
   ]
  },
  {
   "cell_type": "markdown",
   "metadata": {},
   "source": [
    "Create the feature matrix (**X**) and the target vector (**y**)."
   ]
  },
  {
   "cell_type": "code",
   "execution_count": 3,
   "metadata": {
    "ExecuteTime": {
     "end_time": "2020-09-03T11:13:10.016461Z",
     "start_time": "2020-09-03T11:13:09.886466Z"
    }
   },
   "outputs": [],
   "source": [
    "X_full = hd_df.drop(columns=['hd_yes'])\n",
    "y_full = hd_df['hd_yes'].ravel()"
   ]
  },
  {
   "cell_type": "markdown",
   "metadata": {},
   "source": [
    "Next we will create a pre-processing pipeline that will process 3 sets of features in slightly different ways.\n",
    "\n",
    "**(1)** For numeric features we will impute any missing values using the median and then apply scaling"
   ]
  },
  {
   "cell_type": "code",
   "execution_count": 4,
   "metadata": {
    "ExecuteTime": {
     "end_time": "2020-09-03T11:13:12.534202Z",
     "start_time": "2020-09-03T11:13:12.398876Z"
    }
   },
   "outputs": [],
   "source": [
    "numeric_features = ['age', 'resting_bp', 'serum_cholesterol', 'maximum_hr', 'ST_depression_exercise_vs_rest',\n",
    "                   'num_affected_major_vessels']\n",
    "\n",
    "numeric_transformer = Pipeline(steps=[\n",
    "    ('imputer', SimpleImputer(strategy='median')),\n",
    "    ('scaler', StandardScaler())\n",
    "])"
   ]
  },
  {
   "cell_type": "markdown",
   "metadata": {
    "ExecuteTime": {
     "end_time": "2020-09-02T22:12:18.773921Z",
     "start_time": "2020-09-02T22:12:18.607367Z"
    }
   },
   "source": [
    "**(2)** For binary features we will impute missing values using the mode"
   ]
  },
  {
   "cell_type": "code",
   "execution_count": 5,
   "metadata": {
    "ExecuteTime": {
     "end_time": "2020-09-03T11:13:15.117497Z",
     "start_time": "2020-09-03T11:13:14.987567Z"
    }
   },
   "outputs": [],
   "source": [
    "binary_features = ['sex_male', 'high_fasting_blood_sugar_yes', 'resting_ecg_not_normal', 'exercise_induced_angina_yes',\n",
    "                  'peak_exercise_ST_segment_slope_flat_downsloping', 'thallium_stress_test_bf_defect']\n",
    "\n",
    "binary_transformer = Pipeline(steps=[\n",
    "    ('imputer', SimpleImputer(strategy='most_frequent'))\n",
    "])"
   ]
  },
  {
   "cell_type": "markdown",
   "metadata": {},
   "source": [
    "**(3)** For the three-level categorical feature chest pain, missing values were treated as a separate category and [leave-one-out target encoding](https://contrib.scikit-learn.org/category_encoders/leaveoneout.html) applied - not really recommended for a categorical feature with three levels, but it does provide an example of how you might want to handle different category related features in different ways in a preprocessing pipeline."
   ]
  },
  {
   "cell_type": "code",
   "execution_count": 6,
   "metadata": {
    "ExecuteTime": {
     "end_time": "2020-09-03T11:13:17.387653Z",
     "start_time": "2020-09-03T11:13:17.258690Z"
    }
   },
   "outputs": [],
   "source": [
    "categorical_features = ['chest_pain']\n",
    "\n",
    "categorical_transformer = Pipeline(steps=[\n",
    "    ('imputer', SimpleImputer(strategy='most_frequent', fill_value='missing')),\n",
    "    ('loo_encoder', LeaveOneOutEncoder())\n",
    "])"
   ]
  },
  {
   "cell_type": "markdown",
   "metadata": {
    "ExecuteTime": {
     "end_time": "2020-09-02T22:14:52.846801Z",
     "start_time": "2020-09-02T22:14:52.683246Z"
    }
   },
   "source": [
    "Finally, all the different feature processing steps are wrapped up into a single processing pipeline."
   ]
  },
  {
   "cell_type": "code",
   "execution_count": 7,
   "metadata": {
    "ExecuteTime": {
     "end_time": "2020-09-03T11:13:23.223434Z",
     "start_time": "2020-09-03T11:13:23.092395Z"
    }
   },
   "outputs": [],
   "source": [
    "preprocessor = ColumnTransformer(\n",
    "    transformers=[\n",
    "        ('num', numeric_transformer, numeric_features),\n",
    "        ('bin', binary_transformer, binary_features),        \n",
    "        ('cat', categorical_transformer, categorical_features)\n",
    "])"
   ]
  },
  {
   "cell_type": "markdown",
   "metadata": {},
   "source": [
    "## Using Optuna and MLflow\n",
    "\n",
    "With our feature matrix, target vector and preprocessing pipeline ready to go, we can now tune a Random Forest classifier to predict heart disease. Note for the purpose of this demonstration I am going to forgo the use of a hold-out test set. To do the hyper-parameter optimization (model development) we will use Optuna and for experiment tracking one of its [newer features](https://medium.com/optuna/optuna-v2-3165e3f1fc2): mlflow integration (see: [mlflow callback in Optuna](https://optuna.readthedocs.io/en/stable/reference/generated/optuna.integration.MLflowCallback.html?highlight=mlflow) and [mlflow tracking](https://www.mlflow.org/docs/latest/tracking.html)).\n",
    "\n",
    "First we define the objective function to optimize with Optuna, which has three main components:\n",
    "\n",
    "1. **Defining the space of hyper-parameters and values to optimize**: in our case we focus on six hyper-parameters (n_estimators, max_depth, max_features, bootstrap, min_samples_split, min_samples_split)\n",
    "2. **The Machine Learning pipeline**: we have a preprocessing pipeline plus a Random Forest classifier\n",
    "3. **The calculation of the metric to optimize**: we use the 5-fold CV average ROC AUC"
   ]
  },
  {
   "cell_type": "code",
   "execution_count": 8,
   "metadata": {
    "ExecuteTime": {
     "end_time": "2020-09-03T11:31:32.842043Z",
     "start_time": "2020-09-03T11:31:32.706070Z"
    }
   },
   "outputs": [],
   "source": [
    "def objective(trial):\n",
    "    \n",
    "    # parameters to optimize\n",
    "    n_estimators = trial.suggest_int('n_estimators', 10, 500, 10)\n",
    "    max_depth = trial.suggest_int('max_depth', 1, 32)\n",
    "    max_features = trial.suggest_int('max_features', 2, 13)\n",
    "    bootstrap = trial.suggest_categorical('bootstrap', [True, False])\n",
    "    min_samples_split = trial.suggest_discrete_uniform('min_samples_split', 0.1, 1.0, 0.1)\n",
    "    min_samples_leaf = trial.suggest_discrete_uniform('min_samples_leaf', 0.1, 0.5, 0.1)\n",
    "    \n",
    "    # our ML pipeline\n",
    "    clf = Pipeline(steps=[('preprocessor', preprocessor),\n",
    "                          ('classifier', RandomForestClassifier(n_estimators=n_estimators,\n",
    "                                                                max_depth=max_depth,\n",
    "                                                                max_features=max_features,\n",
    "                                                                bootstrap=bootstrap,\n",
    "                                                                min_samples_split=min_samples_split,\n",
    "                                                                min_samples_leaf=min_samples_leaf,\n",
    "                                                                random_state=25\n",
    "                                                                ))])\n",
    "    \n",
    "    # return average 5-fold CV ROC AUC\n",
    "    return cross_val_score(clf, X_full, y_full, scoring='roc_auc', n_jobs=-1, cv=5).mean()"
   ]
  },
  {
   "cell_type": "markdown",
   "metadata": {},
   "source": [
    "Next we define a callback to mlflow, one of the new (and experimental!) features in Optuna 2.0 in order to track our classifier hyper-parameter tuning performed with Optuna."
   ]
  },
  {
   "cell_type": "code",
   "execution_count": 9,
   "metadata": {
    "ExecuteTime": {
     "end_time": "2020-09-03T11:31:34.544153Z",
     "start_time": "2020-09-03T11:31:34.415153Z"
    }
   },
   "outputs": [],
   "source": [
    "mlflow_cb = MLflowCallback(\n",
    "    tracking_uri='mlruns',\n",
    "    metric_name='ROC AUC'\n",
    ")"
   ]
  },
  {
   "cell_type": "markdown",
   "metadata": {},
   "source": [
    "Next we instantiate the Optuna study object to maximize our chosen metric which in this case is the ROC AUC. We also apply [Hyperband pruning](https://optuna.readthedocs.io/en/latest/reference/generated/optuna.pruners.HyperbandPruner.html), which helps find optimums in shorter times by stopping unpromising trials early. Note that this is typically of more benefit for more intensive and difficult optimization such as in deep learning."
   ]
  },
  {
   "cell_type": "code",
   "execution_count": 10,
   "metadata": {
    "ExecuteTime": {
     "end_time": "2020-09-03T11:31:37.922479Z",
     "start_time": "2020-09-03T11:31:37.789261Z"
    }
   },
   "outputs": [],
   "source": [
    "hd_study = optuna.create_study(\n",
    "    study_name='heart_disease_prediction',\n",
    "    direction='maximize',\n",
    "    pruner=optuna.pruners.HyperbandPruner(max_resource=\"auto\")\n",
    ")"
   ]
  },
  {
   "cell_type": "markdown",
   "metadata": {},
   "source": [
    "Finally, we run the optimization using 200 trials. It may take a couple of minutes to run."
   ]
  },
  {
   "cell_type": "code",
   "execution_count": 11,
   "metadata": {
    "ExecuteTime": {
     "end_time": "2020-09-03T11:38:52.634588Z",
     "start_time": "2020-09-03T11:34:04.908078Z"
    },
    "scrolled": true
   },
   "outputs": [
    {
     "name": "stderr",
     "output_type": "stream",
     "text": [
      "[I 2020-09-03 12:34:08,446] Trial 0 finished with value: 0.901746632996633 and parameters: {'n_estimators': 270, 'max_depth': 7, 'max_features': 5, 'bootstrap': False, 'min_samples_split': 0.5, 'min_samples_leaf': 0.2}. Best is trial 0 with value: 0.901746632996633.\n"
     ]
    },
    {
     "name": "stdout",
     "output_type": "stream",
     "text": [
      "INFO: 'heart_disease_prediction' does not exist. Creating a new experiment\n"
     ]
    },
    {
     "name": "stderr",
     "output_type": "stream",
     "text": [
      "[I 2020-09-03 12:34:10,600] Trial 1 finished with value: 0.5 and parameters: {'n_estimators': 30, 'max_depth': 26, 'max_features': 7, 'bootstrap': True, 'min_samples_split': 0.8, 'min_samples_leaf': 0.4}. Best is trial 0 with value: 0.901746632996633.\n",
      "[I 2020-09-03 12:34:11,465] Trial 2 finished with value: 0.5621212121212121 and parameters: {'n_estimators': 380, 'max_depth': 12, 'max_features': 9, 'bootstrap': False, 'min_samples_split': 0.6, 'min_samples_leaf': 0.5}. Best is trial 0 with value: 0.901746632996633.\n",
      "[I 2020-09-03 12:34:12,269] Trial 3 finished with value: 0.8344832251082253 and parameters: {'n_estimators': 370, 'max_depth': 21, 'max_features': 12, 'bootstrap': False, 'min_samples_split': 0.9, 'min_samples_leaf': 0.2}. Best is trial 0 with value: 0.901746632996633.\n",
      "[I 2020-09-03 12:34:12,662] Trial 4 finished with value: 0.87445273669232 and parameters: {'n_estimators': 130, 'max_depth': 30, 'max_features': 7, 'bootstrap': False, 'min_samples_split': 0.6, 'min_samples_leaf': 0.2}. Best is trial 0 with value: 0.901746632996633.\n",
      "[I 2020-09-03 12:34:14,347] Trial 5 finished with value: 0.7401154401154402 and parameters: {'n_estimators': 470, 'max_depth': 19, 'max_features': 2, 'bootstrap': True, 'min_samples_split': 0.7000000000000001, 'min_samples_leaf': 0.2}. Best is trial 0 with value: 0.901746632996633.\n",
      "[I 2020-09-03 12:34:15,116] Trial 6 finished with value: 0.8598960838544173 and parameters: {'n_estimators': 210, 'max_depth': 7, 'max_features': 7, 'bootstrap': True, 'min_samples_split': 0.30000000000000004, 'min_samples_leaf': 0.30000000000000004}. Best is trial 0 with value: 0.901746632996633.\n",
      "[I 2020-09-03 12:34:15,966] Trial 7 finished with value: 0.8889492644700978 and parameters: {'n_estimators': 320, 'max_depth': 10, 'max_features': 5, 'bootstrap': False, 'min_samples_split': 1.0, 'min_samples_leaf': 0.4}. Best is trial 0 with value: 0.901746632996633.\n",
      "[I 2020-09-03 12:34:16,355] Trial 8 finished with value: 0.8737396284271284 and parameters: {'n_estimators': 70, 'max_depth': 17, 'max_features': 10, 'bootstrap': False, 'min_samples_split': 0.2, 'min_samples_leaf': 0.30000000000000004}. Best is trial 0 with value: 0.901746632996633.\n",
      "[I 2020-09-03 12:34:16,824] Trial 9 finished with value: 0.5 and parameters: {'n_estimators': 90, 'max_depth': 15, 'max_features': 11, 'bootstrap': True, 'min_samples_split': 0.2, 'min_samples_leaf': 0.5}. Best is trial 0 with value: 0.901746632996633.\n",
      "[I 2020-09-03 12:34:17,459] Trial 10 finished with value: 0.9105860189193523 and parameters: {'n_estimators': 210, 'max_depth': 2, 'max_features': 2, 'bootstrap': False, 'min_samples_split': 0.4, 'min_samples_leaf': 0.1}. Best is trial 10 with value: 0.9105860189193523.\n",
      "[I 2020-09-03 12:34:18,161] Trial 11 finished with value: 0.9076400162337663 and parameters: {'n_estimators': 220, 'max_depth': 1, 'max_features': 2, 'bootstrap': False, 'min_samples_split': 0.4, 'min_samples_leaf': 0.1}. Best is trial 10 with value: 0.9105860189193523.\n",
      "[I 2020-09-03 12:34:19,183] Trial 12 finished with value: 0.9085138337742504 and parameters: {'n_estimators': 180, 'max_depth': 1, 'max_features': 2, 'bootstrap': False, 'min_samples_split': 0.4, 'min_samples_leaf': 0.1}. Best is trial 10 with value: 0.9105860189193523.\n",
      "[I 2020-09-03 12:34:20,147] Trial 13 finished with value: 0.899654030383197 and parameters: {'n_estimators': 180, 'max_depth': 1, 'max_features': 4, 'bootstrap': False, 'min_samples_split': 0.1, 'min_samples_leaf': 0.1}. Best is trial 10 with value: 0.9105860189193523.\n",
      "[I 2020-09-03 12:34:20,910] Trial 14 finished with value: 0.8974263969055636 and parameters: {'n_estimators': 130, 'max_depth': 1, 'max_features': 3, 'bootstrap': False, 'min_samples_split': 0.4, 'min_samples_leaf': 0.1}. Best is trial 10 with value: 0.9105860189193523.\n",
      "[I 2020-09-03 12:34:21,778] Trial 15 finished with value: 0.9145277176527177 and parameters: {'n_estimators': 260, 'max_depth': 5, 'max_features': 2, 'bootstrap': False, 'min_samples_split': 0.4, 'min_samples_leaf': 0.1}. Best is trial 15 with value: 0.9145277176527177.\n",
      "[I 2020-09-03 12:34:23,085] Trial 16 finished with value: 0.913212231441398 and parameters: {'n_estimators': 300, 'max_depth': 7, 'max_features': 4, 'bootstrap': False, 'min_samples_split': 0.1, 'min_samples_leaf': 0.1}. Best is trial 15 with value: 0.9145277176527177.\n",
      "[I 2020-09-03 12:34:24,976] Trial 17 finished with value: 0.9107891915183582 and parameters: {'n_estimators': 460, 'max_depth': 6, 'max_features': 5, 'bootstrap': False, 'min_samples_split': 0.1, 'min_samples_leaf': 0.2}. Best is trial 15 with value: 0.9145277176527177.\n",
      "[I 2020-09-03 12:34:25,947] Trial 18 finished with value: 0.913869598765432 and parameters: {'n_estimators': 290, 'max_depth': 5, 'max_features': 4, 'bootstrap': False, 'min_samples_split': 0.2, 'min_samples_leaf': 0.1}. Best is trial 15 with value: 0.9145277176527177.\n",
      "[I 2020-09-03 12:34:27,227] Trial 19 finished with value: 0.9024682589786757 and parameters: {'n_estimators': 380, 'max_depth': 11, 'max_features': 4, 'bootstrap': False, 'min_samples_split': 0.30000000000000004, 'min_samples_leaf': 0.30000000000000004}. Best is trial 15 with value: 0.9145277176527177.\n",
      "[I 2020-09-03 12:34:28,338] Trial 20 finished with value: 0.9060286646224146 and parameters: {'n_estimators': 330, 'max_depth': 4, 'max_features': 6, 'bootstrap': False, 'min_samples_split': 0.2, 'min_samples_leaf': 0.2}. Best is trial 15 with value: 0.9145277176527177.\n",
      "[I 2020-09-03 12:34:29,490] Trial 21 finished with value: 0.9120868907327241 and parameters: {'n_estimators': 280, 'max_depth': 5, 'max_features': 3, 'bootstrap': False, 'min_samples_split': 0.1, 'min_samples_leaf': 0.1}. Best is trial 15 with value: 0.9145277176527177.\n",
      "[I 2020-09-03 12:34:30,541] Trial 22 finished with value: 0.9134409571909572 and parameters: {'n_estimators': 310, 'max_depth': 9, 'max_features': 4, 'bootstrap': False, 'min_samples_split': 0.30000000000000004, 'min_samples_leaf': 0.1}. Best is trial 15 with value: 0.9145277176527177.\n",
      "[I 2020-09-03 12:34:31,681] Trial 23 finished with value: 0.9131784110950777 and parameters: {'n_estimators': 410, 'max_depth': 10, 'max_features': 3, 'bootstrap': False, 'min_samples_split': 0.30000000000000004, 'min_samples_leaf': 0.1}. Best is trial 15 with value: 0.9145277176527177.\n",
      "[I 2020-09-03 12:34:32,828] Trial 24 finished with value: 0.8946531285072952 and parameters: {'n_estimators': 250, 'max_depth': 14, 'max_features': 6, 'bootstrap': False, 'min_samples_split': 0.5, 'min_samples_leaf': 0.2}. Best is trial 15 with value: 0.9145277176527177.\n",
      "[I 2020-09-03 12:34:34,219] Trial 25 finished with value: 0.9118686868686868 and parameters: {'n_estimators': 340, 'max_depth': 4, 'max_features': 3, 'bootstrap': False, 'min_samples_split': 0.30000000000000004, 'min_samples_leaf': 0.1}. Best is trial 15 with value: 0.9145277176527177.\n",
      "[I 2020-09-03 12:34:35,793] Trial 26 finished with value: 0.9093912838704507 and parameters: {'n_estimators': 430, 'max_depth': 9, 'max_features': 8, 'bootstrap': True, 'min_samples_split': 0.2, 'min_samples_leaf': 0.1}. Best is trial 15 with value: 0.9145277176527177.\n",
      "[I 2020-09-03 12:34:36,696] Trial 27 finished with value: 0.9064301246592912 and parameters: {'n_estimators': 240, 'max_depth': 13, 'max_features': 4, 'bootstrap': False, 'min_samples_split': 0.5, 'min_samples_leaf': 0.2}. Best is trial 15 with value: 0.9145277176527177.\n",
      "[I 2020-09-03 12:34:37,992] Trial 28 finished with value: 0.8773315997274331 and parameters: {'n_estimators': 290, 'max_depth': 3, 'max_features': 6, 'bootstrap': False, 'min_samples_split': 0.30000000000000004, 'min_samples_leaf': 0.4}. Best is trial 15 with value: 0.9145277176527177.\n",
      "[I 2020-09-03 12:34:38,958] Trial 29 finished with value: 0.9033179012345679 and parameters: {'n_estimators': 260, 'max_depth': 8, 'max_features': 5, 'bootstrap': False, 'min_samples_split': 0.5, 'min_samples_leaf': 0.2}. Best is trial 15 with value: 0.9145277176527177.\n"
     ]
    },
    {
     "name": "stderr",
     "output_type": "stream",
     "text": [
      "[I 2020-09-03 12:34:40,258] Trial 30 finished with value: 0.9090042287958955 and parameters: {'n_estimators': 350, 'max_depth': 6, 'max_features': 5, 'bootstrap': False, 'min_samples_split': 0.2, 'min_samples_leaf': 0.1}. Best is trial 15 with value: 0.9145277176527177.\n",
      "[I 2020-09-03 12:34:41,278] Trial 31 finished with value: 0.9134286816578484 and parameters: {'n_estimators': 310, 'max_depth': 8, 'max_features': 4, 'bootstrap': False, 'min_samples_split': 0.1, 'min_samples_leaf': 0.1}. Best is trial 15 with value: 0.9145277176527177.\n",
      "[I 2020-09-03 12:34:42,470] Trial 32 finished with value: 0.9125117744909412 and parameters: {'n_estimators': 300, 'max_depth': 9, 'max_features': 3, 'bootstrap': False, 'min_samples_split': 0.2, 'min_samples_leaf': 0.1}. Best is trial 15 with value: 0.9145277176527177.\n",
      "[I 2020-09-03 12:34:43,437] Trial 33 finished with value: 0.9136531485489818 and parameters: {'n_estimators': 270, 'max_depth': 12, 'max_features': 4, 'bootstrap': False, 'min_samples_split': 0.1, 'min_samples_leaf': 0.1}. Best is trial 15 with value: 0.9145277176527177.\n",
      "[I 2020-09-03 12:34:44,264] Trial 34 finished with value: 0.914100328683662 and parameters: {'n_estimators': 270, 'max_depth': 12, 'max_features': 2, 'bootstrap': False, 'min_samples_split': 0.4, 'min_samples_leaf': 0.2}. Best is trial 15 with value: 0.9145277176527177.\n",
      "[I 2020-09-03 12:34:44,943] Trial 35 finished with value: 0.9086102843915344 and parameters: {'n_estimators': 180, 'max_depth': 23, 'max_features': 2, 'bootstrap': False, 'min_samples_split': 0.6, 'min_samples_leaf': 0.2}. Best is trial 15 with value: 0.9145277176527177.\n",
      "[I 2020-09-03 12:34:46,283] Trial 36 finished with value: 0.8863611311527979 and parameters: {'n_estimators': 270, 'max_depth': 16, 'max_features': 13, 'bootstrap': True, 'min_samples_split': 0.4, 'min_samples_leaf': 0.2}. Best is trial 15 with value: 0.9145277176527177.\n",
      "[I 2020-09-03 12:34:47,030] Trial 37 finished with value: 0.9066191428170596 and parameters: {'n_estimators': 240, 'max_depth': 12, 'max_features': 2, 'bootstrap': False, 'min_samples_split': 0.6, 'min_samples_leaf': 0.30000000000000004}. Best is trial 15 with value: 0.9145277176527177.\n",
      "[I 2020-09-03 12:34:48,131] Trial 38 finished with value: 0.9068392255892256 and parameters: {'n_estimators': 360, 'max_depth': 17, 'max_features': 3, 'bootstrap': False, 'min_samples_split': 0.5, 'min_samples_leaf': 0.2}. Best is trial 15 with value: 0.9145277176527177.\n",
      "[I 2020-09-03 12:34:49,692] Trial 39 finished with value: 0.8720070246111913 and parameters: {'n_estimators': 390, 'max_depth': 13, 'max_features': 8, 'bootstrap': False, 'min_samples_split': 0.7000000000000001, 'min_samples_leaf': 0.2}. Best is trial 15 with value: 0.9145277176527177.\n",
      "[I 2020-09-03 12:34:50,473] Trial 40 finished with value: 0.8445222312409812 and parameters: {'n_estimators': 140, 'max_depth': 19, 'max_features': 2, 'bootstrap': True, 'min_samples_split': 0.4, 'min_samples_leaf': 0.30000000000000004}. Best is trial 15 with value: 0.9145277176527177.\n",
      "[I 2020-09-03 12:34:51,555] Trial 41 finished with value: 0.9132325236491903 and parameters: {'n_estimators': 270, 'max_depth': 11, 'max_features': 4, 'bootstrap': False, 'min_samples_split': 0.30000000000000004, 'min_samples_leaf': 0.1}. Best is trial 15 with value: 0.9145277176527177.\n",
      "[I 2020-09-03 12:34:52,442] Trial 42 finished with value: 0.909811908770242 and parameters: {'n_estimators': 230, 'max_depth': 6, 'max_features': 5, 'bootstrap': False, 'min_samples_split': 0.30000000000000004, 'min_samples_leaf': 0.1}. Best is trial 15 with value: 0.9145277176527177.\n",
      "[I 2020-09-03 12:34:53,667] Trial 43 finished with value: 0.9039537237453905 and parameters: {'n_estimators': 320, 'max_depth': 11, 'max_features': 6, 'bootstrap': False, 'min_samples_split': 0.2, 'min_samples_leaf': 0.1}. Best is trial 15 with value: 0.9145277176527177.\n",
      "[I 2020-09-03 12:34:54,467] Trial 44 finished with value: 0.9075927930094597 and parameters: {'n_estimators': 190, 'max_depth': 15, 'max_features': 3, 'bootstrap': False, 'min_samples_split': 0.4, 'min_samples_leaf': 0.1}. Best is trial 15 with value: 0.9145277176527177.\n",
      "[I 2020-09-03 12:34:55,155] Trial 45 finished with value: 0.9013273859628026 and parameters: {'n_estimators': 210, 'max_depth': 30, 'max_features': 7, 'bootstrap': False, 'min_samples_split': 0.30000000000000004, 'min_samples_leaf': 0.1}. Best is trial 15 with value: 0.9145277176527177.\n",
      "[I 2020-09-03 12:34:56,039] Trial 46 finished with value: 0.9114781244989578 and parameters: {'n_estimators': 290, 'max_depth': 9, 'max_features': 4, 'bootstrap': False, 'min_samples_split': 0.2, 'min_samples_leaf': 0.2}. Best is trial 15 with value: 0.9145277176527177.\n",
      "[I 2020-09-03 12:34:57,411] Trial 47 finished with value: 0.9136341089466089 and parameters: {'n_estimators': 330, 'max_depth': 3, 'max_features': 2, 'bootstrap': False, 'min_samples_split': 0.4, 'min_samples_leaf': 0.1}. Best is trial 15 with value: 0.9145277176527177.\n",
      "[I 2020-09-03 12:34:58,735] Trial 48 finished with value: 0.9068380982443482 and parameters: {'n_estimators': 340, 'max_depth': 3, 'max_features': 2, 'bootstrap': False, 'min_samples_split': 0.7000000000000001, 'min_samples_leaf': 0.2}. Best is trial 15 with value: 0.9145277176527177.\n",
      "[I 2020-09-03 12:34:59,986] Trial 49 finished with value: 0.5 and parameters: {'n_estimators': 260, 'max_depth': 4, 'max_features': 2, 'bootstrap': True, 'min_samples_split': 0.5, 'min_samples_leaf': 0.5}. Best is trial 15 with value: 0.9145277176527177.\n",
      "[I 2020-09-03 12:35:00,251] Trial 50 finished with value: 0.8657999889770723 and parameters: {'n_estimators': 10, 'max_depth': 27, 'max_features': 10, 'bootstrap': False, 'min_samples_split': 0.6, 'min_samples_leaf': 0.4}. Best is trial 15 with value: 0.9145277176527177.\n",
      "[I 2020-09-03 12:35:01,175] Trial 51 finished with value: 0.9093632255090588 and parameters: {'n_estimators': 310, 'max_depth': 7, 'max_features': 3, 'bootstrap': False, 'min_samples_split': 0.4, 'min_samples_leaf': 0.1}. Best is trial 15 with value: 0.9145277176527177.\n",
      "[I 2020-09-03 12:35:02,399] Trial 52 finished with value: 0.9065706669873336 and parameters: {'n_estimators': 280, 'max_depth': 2, 'max_features': 5, 'bootstrap': False, 'min_samples_split': 0.4, 'min_samples_leaf': 0.1}. Best is trial 15 with value: 0.9145277176527177.\n",
      "[I 2020-09-03 12:35:03,887] Trial 53 finished with value: 0.9120783730158729 and parameters: {'n_estimators': 370, 'max_depth': 5, 'max_features': 3, 'bootstrap': False, 'min_samples_split': 0.30000000000000004, 'min_samples_leaf': 0.1}. Best is trial 15 with value: 0.9145277176527177.\n",
      "[I 2020-09-03 12:35:05,025] Trial 54 finished with value: 0.9134366983325318 and parameters: {'n_estimators': 320, 'max_depth': 8, 'max_features': 4, 'bootstrap': False, 'min_samples_split': 0.1, 'min_samples_leaf': 0.1}. Best is trial 15 with value: 0.9145277176527177.\n",
      "[I 2020-09-03 12:35:05,719] Trial 55 finished with value: 0.9130045494628828 and parameters: {'n_estimators': 220, 'max_depth': 10, 'max_features': 2, 'bootstrap': False, 'min_samples_split': 0.4, 'min_samples_leaf': 0.1}. Best is trial 15 with value: 0.9145277176527177.\n",
      "[I 2020-09-03 12:35:06,530] Trial 56 finished with value: 0.9080442320025653 and parameters: {'n_estimators': 150, 'max_depth': 5, 'max_features': 3, 'bootstrap': False, 'min_samples_split': 0.30000000000000004, 'min_samples_leaf': 0.1}. Best is trial 15 with value: 0.9145277176527177.\n",
      "[I 2020-09-03 12:35:08,169] Trial 57 finished with value: 0.9145239598364598 and parameters: {'n_estimators': 400, 'max_depth': 13, 'max_features': 2, 'bootstrap': False, 'min_samples_split': 0.2, 'min_samples_leaf': 0.2}. Best is trial 15 with value: 0.9145277176527177.\n",
      "[I 2020-09-03 12:35:09,490] Trial 58 finished with value: 0.9118607954545455 and parameters: {'n_estimators': 420, 'max_depth': 18, 'max_features': 2, 'bootstrap': False, 'min_samples_split': 0.1, 'min_samples_leaf': 0.30000000000000004}. Best is trial 15 with value: 0.9145277176527177.\n"
     ]
    },
    {
     "name": "stderr",
     "output_type": "stream",
     "text": [
      "[I 2020-09-03 12:35:11,067] Trial 59 finished with value: 0.911304137606221 and parameters: {'n_estimators': 490, 'max_depth': 14, 'max_features': 2, 'bootstrap': False, 'min_samples_split': 0.9, 'min_samples_leaf': 0.2}. Best is trial 15 with value: 0.9145277176527177.\n",
      "[I 2020-09-03 12:35:12,350] Trial 60 finished with value: 0.9125303130511464 and parameters: {'n_estimators': 450, 'max_depth': 20, 'max_features': 2, 'bootstrap': False, 'min_samples_split': 0.2, 'min_samples_leaf': 0.2}. Best is trial 15 with value: 0.9145277176527177.\n",
      "[I 2020-09-03 12:35:13,853] Trial 61 finished with value: 0.9142649210357543 and parameters: {'n_estimators': 390, 'max_depth': 12, 'max_features': 3, 'bootstrap': False, 'min_samples_split': 0.2, 'min_samples_leaf': 0.1}. Best is trial 15 with value: 0.9145277176527177.\n",
      "[I 2020-09-03 12:35:14,919] Trial 62 finished with value: 0.9149303050344717 and parameters: {'n_estimators': 400, 'max_depth': 12, 'max_features': 3, 'bootstrap': False, 'min_samples_split': 0.1, 'min_samples_leaf': 0.1}. Best is trial 62 with value: 0.9149303050344717.\n",
      "[I 2020-09-03 12:35:16,285] Trial 63 finished with value: 0.9142649210357543 and parameters: {'n_estimators': 390, 'max_depth': 12, 'max_features': 3, 'bootstrap': False, 'min_samples_split': 0.1, 'min_samples_leaf': 0.1}. Best is trial 62 with value: 0.9149303050344717.\n",
      "[I 2020-09-03 12:35:17,804] Trial 64 finished with value: 0.9149303050344717 and parameters: {'n_estimators': 400, 'max_depth': 15, 'max_features': 3, 'bootstrap': False, 'min_samples_split': 0.2, 'min_samples_leaf': 0.1}. Best is trial 62 with value: 0.9149303050344717.\n",
      "[I 2020-09-03 12:35:19,096] Trial 65 finished with value: 0.9142649210357543 and parameters: {'n_estimators': 390, 'max_depth': 15, 'max_features': 3, 'bootstrap': False, 'min_samples_split': 0.1, 'min_samples_leaf': 0.1}. Best is trial 62 with value: 0.9149303050344717.\n",
      "[I 2020-09-03 12:35:20,250] Trial 66 finished with value: 0.9149303050344717 and parameters: {'n_estimators': 400, 'max_depth': 16, 'max_features': 3, 'bootstrap': False, 'min_samples_split': 0.1, 'min_samples_leaf': 0.1}. Best is trial 62 with value: 0.9149303050344717.\n",
      "[I 2020-09-03 12:35:21,986] Trial 67 finished with value: 0.9142797017797017 and parameters: {'n_estimators': 440, 'max_depth': 16, 'max_features': 3, 'bootstrap': False, 'min_samples_split': 0.1, 'min_samples_leaf': 0.1}. Best is trial 62 with value: 0.9149303050344717.\n",
      "[I 2020-09-03 12:35:23,561] Trial 68 finished with value: 0.9144974046015714 and parameters: {'n_estimators': 450, 'max_depth': 16, 'max_features': 3, 'bootstrap': False, 'min_samples_split': 0.1, 'min_samples_leaf': 0.1}. Best is trial 62 with value: 0.9149303050344717.\n",
      "[I 2020-09-03 12:35:25,176] Trial 69 finished with value: 0.9142797017797017 and parameters: {'n_estimators': 440, 'max_depth': 16, 'max_features': 3, 'bootstrap': False, 'min_samples_split': 0.1, 'min_samples_leaf': 0.1}. Best is trial 62 with value: 0.9149303050344717.\n",
      "[I 2020-09-03 12:35:26,802] Trial 70 finished with value: 0.9147489277697611 and parameters: {'n_estimators': 500, 'max_depth': 22, 'max_features': 4, 'bootstrap': False, 'min_samples_split': 0.1, 'min_samples_leaf': 0.1}. Best is trial 62 with value: 0.9149303050344717.\n",
      "[I 2020-09-03 12:35:28,393] Trial 71 finished with value: 0.9142864658489659 and parameters: {'n_estimators': 480, 'max_depth': 18, 'max_features': 3, 'bootstrap': False, 'min_samples_split': 0.1, 'min_samples_leaf': 0.1}. Best is trial 62 with value: 0.9149303050344717.\n",
      "[I 2020-09-03 12:35:30,284] Trial 72 finished with value: 0.9147489277697611 and parameters: {'n_estimators': 500, 'max_depth': 22, 'max_features': 4, 'bootstrap': False, 'min_samples_split': 0.1, 'min_samples_leaf': 0.1}. Best is trial 62 with value: 0.9149303050344717.\n",
      "[I 2020-09-03 12:35:31,678] Trial 73 finished with value: 0.9147489277697611 and parameters: {'n_estimators': 500, 'max_depth': 21, 'max_features': 4, 'bootstrap': False, 'min_samples_split': 0.2, 'min_samples_leaf': 0.1}. Best is trial 62 with value: 0.9149303050344717.\n",
      "[I 2020-09-03 12:35:33,669] Trial 74 finished with value: 0.9147489277697611 and parameters: {'n_estimators': 500, 'max_depth': 23, 'max_features': 4, 'bootstrap': False, 'min_samples_split': 0.2, 'min_samples_leaf': 0.1}. Best is trial 62 with value: 0.9149303050344717.\n",
      "[I 2020-09-03 12:35:35,199] Trial 75 finished with value: 0.9109873536956871 and parameters: {'n_estimators': 500, 'max_depth': 23, 'max_features': 5, 'bootstrap': False, 'min_samples_split': 0.2, 'min_samples_leaf': 0.1}. Best is trial 62 with value: 0.9149303050344717.\n",
      "[I 2020-09-03 12:35:36,950] Trial 76 finished with value: 0.9136599126182461 and parameters: {'n_estimators': 470, 'max_depth': 24, 'max_features': 4, 'bootstrap': False, 'min_samples_split': 0.2, 'min_samples_leaf': 0.1}. Best is trial 62 with value: 0.9149303050344717.\n",
      "[I 2020-09-03 12:35:38,985] Trial 77 finished with value: 0.9151344797178131 and parameters: {'n_estimators': 500, 'max_depth': 21, 'max_features': 4, 'bootstrap': True, 'min_samples_split': 0.2, 'min_samples_leaf': 0.1}. Best is trial 77 with value: 0.9151344797178131.\n",
      "[I 2020-09-03 12:35:40,861] Trial 78 finished with value: 0.9151344797178131 and parameters: {'n_estimators': 500, 'max_depth': 21, 'max_features': 4, 'bootstrap': True, 'min_samples_split': 0.2, 'min_samples_leaf': 0.1}. Best is trial 77 with value: 0.9151344797178131.\n",
      "[I 2020-09-03 12:35:42,905] Trial 79 finished with value: 0.9114197530864198 and parameters: {'n_estimators': 480, 'max_depth': 26, 'max_features': 5, 'bootstrap': True, 'min_samples_split': 0.2, 'min_samples_leaf': 0.1}. Best is trial 77 with value: 0.9151344797178131.\n",
      "[I 2020-09-03 12:35:44,928] Trial 80 finished with value: 0.9116294392336058 and parameters: {'n_estimators': 470, 'max_depth': 21, 'max_features': 5, 'bootstrap': True, 'min_samples_split': 0.1, 'min_samples_leaf': 0.1}. Best is trial 77 with value: 0.9151344797178131.\n",
      "[I 2020-09-03 12:35:46,844] Trial 81 finished with value: 0.9151344797178131 and parameters: {'n_estimators': 500, 'max_depth': 22, 'max_features': 4, 'bootstrap': True, 'min_samples_split': 0.2, 'min_samples_leaf': 0.1}. Best is trial 77 with value: 0.9151344797178131.\n",
      "[I 2020-09-03 12:35:49,159] Trial 82 finished with value: 0.9151344797178131 and parameters: {'n_estimators': 500, 'max_depth': 24, 'max_features': 4, 'bootstrap': True, 'min_samples_split': 0.2, 'min_samples_leaf': 0.1}. Best is trial 77 with value: 0.9151344797178131.\n",
      "[I 2020-09-03 12:35:51,019] Trial 83 finished with value: 0.9149137706429373 and parameters: {'n_estimators': 490, 'max_depth': 24, 'max_features': 4, 'bootstrap': True, 'min_samples_split': 0.2, 'min_samples_leaf': 0.1}. Best is trial 77 with value: 0.9151344797178131.\n",
      "[I 2020-09-03 12:35:52,819] Trial 84 finished with value: 0.9116091470258137 and parameters: {'n_estimators': 420, 'max_depth': 25, 'max_features': 5, 'bootstrap': True, 'min_samples_split': 0.2, 'min_samples_leaf': 0.1}. Best is trial 77 with value: 0.9151344797178131.\n",
      "[I 2020-09-03 12:35:54,618] Trial 85 finished with value: 0.9144783649991982 and parameters: {'n_estimators': 460, 'max_depth': 27, 'max_features': 4, 'bootstrap': True, 'min_samples_split': 0.2, 'min_samples_leaf': 0.1}. Best is trial 77 with value: 0.9151344797178131.\n",
      "[I 2020-09-03 12:35:56,643] Trial 86 finished with value: 0.9125270562770563 and parameters: {'n_estimators': 480, 'max_depth': 20, 'max_features': 6, 'bootstrap': True, 'min_samples_split': 0.2, 'min_samples_leaf': 0.1}. Best is trial 77 with value: 0.9151344797178131.\n",
      "[I 2020-09-03 12:35:58,664] Trial 87 finished with value: 0.9123354076479077 and parameters: {'n_estimators': 490, 'max_depth': 24, 'max_features': 4, 'bootstrap': True, 'min_samples_split': 0.30000000000000004, 'min_samples_leaf': 0.1}. Best is trial 77 with value: 0.9151344797178131.\n",
      "[I 2020-09-03 12:36:00,603] Trial 88 finished with value: 0.9144783649991982 and parameters: {'n_estimators': 460, 'max_depth': 22, 'max_features': 4, 'bootstrap': True, 'min_samples_split': 0.1, 'min_samples_leaf': 0.1}. Best is trial 77 with value: 0.9151344797178131.\n"
     ]
    },
    {
     "name": "stderr",
     "output_type": "stream",
     "text": [
      "[I 2020-09-03 12:36:02,664] Trial 89 finished with value: 0.9127049262465927 and parameters: {'n_estimators': 410, 'max_depth': 29, 'max_features': 5, 'bootstrap': True, 'min_samples_split': 0.1, 'min_samples_leaf': 0.1}. Best is trial 77 with value: 0.9151344797178131.\n",
      "[I 2020-09-03 12:36:04,319] Trial 90 finished with value: 0.9063745089786757 and parameters: {'n_estimators': 430, 'max_depth': 19, 'max_features': 6, 'bootstrap': True, 'min_samples_split': 0.30000000000000004, 'min_samples_leaf': 0.1}. Best is trial 77 with value: 0.9151344797178131.\n",
      "[I 2020-09-03 12:36:06,661] Trial 91 finished with value: 0.9151344797178131 and parameters: {'n_estimators': 500, 'max_depth': 21, 'max_features': 4, 'bootstrap': True, 'min_samples_split': 0.2, 'min_samples_leaf': 0.1}. Best is trial 77 with value: 0.9151344797178131.\n",
      "[I 2020-09-03 12:36:08,568] Trial 92 finished with value: 0.9149137706429373 and parameters: {'n_estimators': 490, 'max_depth': 22, 'max_features': 4, 'bootstrap': True, 'min_samples_split': 0.2, 'min_samples_leaf': 0.1}. Best is trial 77 with value: 0.9151344797178131.\n",
      "[I 2020-09-03 12:36:10,629] Trial 93 finished with value: 0.9149137706429373 and parameters: {'n_estimators': 490, 'max_depth': 20, 'max_features': 4, 'bootstrap': True, 'min_samples_split': 0.2, 'min_samples_leaf': 0.1}. Best is trial 77 with value: 0.9151344797178131.\n",
      "[I 2020-09-03 12:36:12,460] Trial 94 finished with value: 0.9114197530864198 and parameters: {'n_estimators': 480, 'max_depth': 20, 'max_features': 5, 'bootstrap': True, 'min_samples_split': 0.2, 'min_samples_leaf': 0.1}. Best is trial 77 with value: 0.9151344797178131.\n",
      "[I 2020-09-03 12:36:14,484] Trial 95 finished with value: 0.91427243666827 and parameters: {'n_estimators': 470, 'max_depth': 24, 'max_features': 3, 'bootstrap': True, 'min_samples_split': 0.30000000000000004, 'min_samples_leaf': 0.1}. Best is trial 77 with value: 0.9151344797178131.\n",
      "[I 2020-09-03 12:36:16,193] Trial 96 finished with value: 0.9151450016033348 and parameters: {'n_estimators': 370, 'max_depth': 18, 'max_features': 4, 'bootstrap': True, 'min_samples_split': 0.2, 'min_samples_leaf': 0.1}. Best is trial 96 with value: 0.9151450016033348.\n",
      "[I 2020-09-03 12:36:17,988] Trial 97 finished with value: 0.9114320286195285 and parameters: {'n_estimators': 350, 'max_depth': 18, 'max_features': 5, 'bootstrap': True, 'min_samples_split': 0.30000000000000004, 'min_samples_leaf': 0.1}. Best is trial 96 with value: 0.9151450016033348.\n",
      "[I 2020-09-03 12:36:19,285] Trial 98 finished with value: 0.9151450016033348 and parameters: {'n_estimators': 370, 'max_depth': 17, 'max_features': 4, 'bootstrap': True, 'min_samples_split': 0.2, 'min_samples_leaf': 0.1}. Best is trial 96 with value: 0.9151450016033348.\n",
      "[I 2020-09-03 12:36:21,138] Trial 99 finished with value: 0.9118133217091551 and parameters: {'n_estimators': 370, 'max_depth': 19, 'max_features': 3, 'bootstrap': True, 'min_samples_split': 0.2, 'min_samples_leaf': 0.1}. Best is trial 96 with value: 0.9151450016033348.\n",
      "[I 2020-09-03 12:36:22,704] Trial 100 finished with value: 0.9114548260381594 and parameters: {'n_estimators': 370, 'max_depth': 14, 'max_features': 4, 'bootstrap': True, 'min_samples_split': 0.30000000000000004, 'min_samples_leaf': 0.1}. Best is trial 96 with value: 0.9151450016033348.\n",
      "[I 2020-09-03 12:36:24,587] Trial 101 finished with value: 0.9147028318903319 and parameters: {'n_estimators': 410, 'max_depth': 17, 'max_features': 4, 'bootstrap': True, 'min_samples_split': 0.2, 'min_samples_leaf': 0.1}. Best is trial 96 with value: 0.9151450016033348.\n",
      "[I 2020-09-03 12:36:26,167] Trial 102 finished with value: 0.9144808702100369 and parameters: {'n_estimators': 380, 'max_depth': 21, 'max_features': 4, 'bootstrap': True, 'min_samples_split': 0.2, 'min_samples_leaf': 0.1}. Best is trial 96 with value: 0.9151450016033348.\n",
      "[I 2020-09-03 12:36:27,975] Trial 103 finished with value: 0.9118200857784192 and parameters: {'n_estimators': 360, 'max_depth': 17, 'max_features': 3, 'bootstrap': True, 'min_samples_split': 0.2, 'min_samples_leaf': 0.1}. Best is trial 96 with value: 0.9151450016033348.\n",
      "[I 2020-09-03 12:36:29,549] Trial 104 finished with value: 0.9149353154561488 and parameters: {'n_estimators': 430, 'max_depth': 25, 'max_features': 4, 'bootstrap': True, 'min_samples_split': 0.2, 'min_samples_leaf': 0.1}. Best is trial 96 with value: 0.9151450016033348.\n",
      "[I 2020-09-03 12:36:31,375] Trial 105 finished with value: 0.9144876342793008 and parameters: {'n_estimators': 400, 'max_depth': 15, 'max_features': 4, 'bootstrap': True, 'min_samples_split': 0.1, 'min_samples_leaf': 0.1}. Best is trial 96 with value: 0.9151450016033348.\n",
      "[I 2020-09-03 12:36:32,925] Trial 106 finished with value: 0.9137884299342633 and parameters: {'n_estimators': 430, 'max_depth': 25, 'max_features': 3, 'bootstrap': True, 'min_samples_split': 0.2, 'min_samples_leaf': 0.1}. Best is trial 96 with value: 0.9151450016033348.\n",
      "[I 2020-09-03 12:36:34,753] Trial 107 finished with value: 0.9098730359147025 and parameters: {'n_estimators': 450, 'max_depth': 19, 'max_features': 5, 'bootstrap': True, 'min_samples_split': 0.30000000000000004, 'min_samples_leaf': 0.1}. Best is trial 96 with value: 0.9151450016033348.\n",
      "[I 2020-09-03 12:36:36,333] Trial 108 finished with value: 0.9133715628507295 and parameters: {'n_estimators': 400, 'max_depth': 18, 'max_features': 3, 'bootstrap': True, 'min_samples_split': 0.2, 'min_samples_leaf': 0.1}. Best is trial 96 with value: 0.9151450016033348.\n",
      "[I 2020-09-03 12:36:38,279] Trial 109 finished with value: 0.5 and parameters: {'n_estimators': 420, 'max_depth': 26, 'max_features': 5, 'bootstrap': True, 'min_samples_split': 0.30000000000000004, 'min_samples_leaf': 0.5}. Best is trial 96 with value: 0.9151450016033348.\n",
      "[I 2020-09-03 12:36:39,629] Trial 110 finished with value: 0.9120365359948692 and parameters: {'n_estimators': 380, 'max_depth': 23, 'max_features': 3, 'bootstrap': True, 'min_samples_split': 0.2, 'min_samples_leaf': 0.1}. Best is trial 96 with value: 0.9151450016033348.\n",
      "[I 2020-09-03 12:36:41,534] Trial 111 finished with value: 0.9144783649991982 and parameters: {'n_estimators': 440, 'max_depth': 22, 'max_features': 4, 'bootstrap': True, 'min_samples_split': 0.2, 'min_samples_leaf': 0.1}. Best is trial 96 with value: 0.9151450016033348.\n",
      "[I 2020-09-03 12:36:43,020] Trial 112 finished with value: 0.9147028318903319 and parameters: {'n_estimators': 410, 'max_depth': 21, 'max_features': 4, 'bootstrap': True, 'min_samples_split': 0.1, 'min_samples_leaf': 0.1}. Best is trial 96 with value: 0.9151450016033348.\n",
      "[I 2020-09-03 12:36:44,581] Trial 113 finished with value: 0.9155821608946608 and parameters: {'n_estimators': 350, 'max_depth': 20, 'max_features': 4, 'bootstrap': True, 'min_samples_split': 0.2, 'min_samples_leaf': 0.1}. Best is trial 113 with value: 0.9155821608946608.\n",
      "[I 2020-09-03 12:36:45,783] Trial 114 finished with value: 0.9166939734648067 and parameters: {'n_estimators': 340, 'max_depth': 19, 'max_features': 4, 'bootstrap': True, 'min_samples_split': 0.2, 'min_samples_leaf': 0.1}. Best is trial 114 with value: 0.9166939734648067.\n",
      "[I 2020-09-03 12:36:47,559] Trial 115 finished with value: 0.9133943602693602 and parameters: {'n_estimators': 340, 'max_depth': 20, 'max_features': 5, 'bootstrap': True, 'min_samples_split': 0.2, 'min_samples_leaf': 0.1}. Best is trial 114 with value: 0.9166939734648067.\n",
      "[I 2020-09-03 12:36:48,962] Trial 116 finished with value: 0.9096924102132435 and parameters: {'n_estimators': 360, 'max_depth': 17, 'max_features': 4, 'bootstrap': True, 'min_samples_split': 0.30000000000000004, 'min_samples_leaf': 0.1}. Best is trial 114 with value: 0.9166939734648067.\n",
      "[I 2020-09-03 12:36:50,537] Trial 117 finished with value: 0.9160446228154562 and parameters: {'n_estimators': 330, 'max_depth': 19, 'max_features': 4, 'bootstrap': True, 'min_samples_split': 0.2, 'min_samples_leaf': 0.1}. Best is trial 114 with value: 0.9166939734648067.\n"
     ]
    },
    {
     "name": "stderr",
     "output_type": "stream",
     "text": [
      "[I 2020-09-03 12:36:51,752] Trial 118 finished with value: 0.9155821608946608 and parameters: {'n_estimators': 350, 'max_depth': 19, 'max_features': 4, 'bootstrap': True, 'min_samples_split': 0.2, 'min_samples_leaf': 0.1}. Best is trial 114 with value: 0.9166939734648067.\n",
      "[I 2020-09-03 12:36:53,450] Trial 119 finished with value: 0.9136416245791246 and parameters: {'n_estimators': 330, 'max_depth': 19, 'max_features': 5, 'bootstrap': True, 'min_samples_split': 0.2, 'min_samples_leaf': 0.1}. Best is trial 114 with value: 0.9166939734648067.\n",
      "[I 2020-09-03 12:36:54,825] Trial 120 finished with value: 0.9166939734648067 and parameters: {'n_estimators': 340, 'max_depth': 18, 'max_features': 4, 'bootstrap': True, 'min_samples_split': 0.2, 'min_samples_leaf': 0.1}. Best is trial 114 with value: 0.9166939734648067.\n",
      "[I 2020-09-03 12:36:56,470] Trial 121 finished with value: 0.9155821608946608 and parameters: {'n_estimators': 350, 'max_depth': 18, 'max_features': 4, 'bootstrap': True, 'min_samples_split': 0.2, 'min_samples_leaf': 0.1}. Best is trial 114 with value: 0.9166939734648067.\n",
      "[I 2020-09-03 12:36:57,778] Trial 122 finished with value: 0.9166939734648067 and parameters: {'n_estimators': 340, 'max_depth': 18, 'max_features': 4, 'bootstrap': True, 'min_samples_split': 0.2, 'min_samples_leaf': 0.1}. Best is trial 114 with value: 0.9166939734648067.\n",
      "[I 2020-09-03 12:36:59,550] Trial 123 finished with value: 0.9166939734648067 and parameters: {'n_estimators': 340, 'max_depth': 18, 'max_features': 4, 'bootstrap': True, 'min_samples_split': 0.2, 'min_samples_leaf': 0.1}. Best is trial 114 with value: 0.9166939734648067.\n",
      "[I 2020-09-03 12:37:00,954] Trial 124 finished with value: 0.9151708052749719 and parameters: {'n_estimators': 320, 'max_depth': 18, 'max_features': 4, 'bootstrap': True, 'min_samples_split': 0.2, 'min_samples_leaf': 0.1}. Best is trial 114 with value: 0.9166939734648067.\n",
      "[I 2020-09-03 12:37:02,786] Trial 125 finished with value: 0.9114468093634759 and parameters: {'n_estimators': 320, 'max_depth': 18, 'max_features': 5, 'bootstrap': True, 'min_samples_split': 0.30000000000000004, 'min_samples_leaf': 0.1}. Best is trial 114 with value: 0.9166939734648067.\n",
      "[I 2020-09-03 12:37:03,995] Trial 126 finished with value: 0.9164855399230399 and parameters: {'n_estimators': 300, 'max_depth': 18, 'max_features': 4, 'bootstrap': True, 'min_samples_split': 0.2, 'min_samples_leaf': 0.1}. Best is trial 114 with value: 0.9166939734648067.\n",
      "[I 2020-09-03 12:37:05,645] Trial 127 finished with value: 0.9164855399230399 and parameters: {'n_estimators': 300, 'max_depth': 18, 'max_features': 4, 'bootstrap': True, 'min_samples_split': 0.2, 'min_samples_leaf': 0.1}. Best is trial 114 with value: 0.9166939734648067.\n",
      "[I 2020-09-03 12:37:07,048] Trial 128 finished with value: 0.9158294252044252 and parameters: {'n_estimators': 310, 'max_depth': 18, 'max_features': 4, 'bootstrap': True, 'min_samples_split': 0.2, 'min_samples_leaf': 0.1}. Best is trial 114 with value: 0.9166939734648067.\n",
      "[I 2020-09-03 12:37:08,682] Trial 129 finished with value: 0.9098940796857464 and parameters: {'n_estimators': 300, 'max_depth': 19, 'max_features': 5, 'bootstrap': True, 'min_samples_split': 0.30000000000000004, 'min_samples_leaf': 0.1}. Best is trial 114 with value: 0.9166939734648067.\n",
      "[I 2020-09-03 12:37:10,071] Trial 130 finished with value: 0.9166939734648067 and parameters: {'n_estimators': 340, 'max_depth': 18, 'max_features': 4, 'bootstrap': True, 'min_samples_split': 0.2, 'min_samples_leaf': 0.1}. Best is trial 114 with value: 0.9166939734648067.\n",
      "[I 2020-09-03 12:37:11,581] Trial 131 finished with value: 0.9166939734648067 and parameters: {'n_estimators': 340, 'max_depth': 17, 'max_features': 4, 'bootstrap': True, 'min_samples_split': 0.2, 'min_samples_leaf': 0.1}. Best is trial 114 with value: 0.9166939734648067.\n",
      "[I 2020-09-03 12:37:13,223] Trial 132 finished with value: 0.9166939734648067 and parameters: {'n_estimators': 340, 'max_depth': 18, 'max_features': 4, 'bootstrap': True, 'min_samples_split': 0.2, 'min_samples_leaf': 0.1}. Best is trial 114 with value: 0.9166939734648067.\n",
      "[I 2020-09-03 12:37:14,571] Trial 133 finished with value: 0.9166939734648067 and parameters: {'n_estimators': 340, 'max_depth': 17, 'max_features': 4, 'bootstrap': True, 'min_samples_split': 0.2, 'min_samples_leaf': 0.1}. Best is trial 114 with value: 0.9166939734648067.\n",
      "[I 2020-09-03 12:37:16,077] Trial 134 finished with value: 0.9166939734648067 and parameters: {'n_estimators': 340, 'max_depth': 17, 'max_features': 4, 'bootstrap': True, 'min_samples_split': 0.2, 'min_samples_leaf': 0.1}. Best is trial 114 with value: 0.9166939734648067.\n",
      "[I 2020-09-03 12:37:17,759] Trial 135 finished with value: 0.9133943602693602 and parameters: {'n_estimators': 340, 'max_depth': 16, 'max_features': 5, 'bootstrap': True, 'min_samples_split': 0.2, 'min_samples_leaf': 0.1}. Best is trial 114 with value: 0.9166939734648067.\n",
      "[I 2020-09-03 12:37:19,000] Trial 136 finished with value: 0.8994721520763187 and parameters: {'n_estimators': 310, 'max_depth': 17, 'max_features': 9, 'bootstrap': True, 'min_samples_split': 0.30000000000000004, 'min_samples_leaf': 0.1}. Best is trial 114 with value: 0.9166939734648067.\n",
      "[I 2020-09-03 12:37:20,345] Trial 137 finished with value: 0.9164855399230399 and parameters: {'n_estimators': 300, 'max_depth': 19, 'max_features': 4, 'bootstrap': True, 'min_samples_split': 0.2, 'min_samples_leaf': 0.1}. Best is trial 114 with value: 0.9166939734648067.\n",
      "[I 2020-09-03 12:37:21,862] Trial 138 finished with value: 0.9164855399230399 and parameters: {'n_estimators': 300, 'max_depth': 16, 'max_features': 4, 'bootstrap': True, 'min_samples_split': 0.2, 'min_samples_leaf': 0.1}. Best is trial 114 with value: 0.9166939734648067.\n",
      "[I 2020-09-03 12:37:23,094] Trial 139 finished with value: 0.9116331970498637 and parameters: {'n_estimators': 280, 'max_depth': 16, 'max_features': 5, 'bootstrap': True, 'min_samples_split': 0.1, 'min_samples_leaf': 0.1}. Best is trial 114 with value: 0.9166939734648067.\n",
      "[I 2020-09-03 12:37:24,098] Trial 140 finished with value: 0.5 and parameters: {'n_estimators': 290, 'max_depth': 17, 'max_features': 4, 'bootstrap': True, 'min_samples_split': 0.2, 'min_samples_leaf': 0.4}. Best is trial 114 with value: 0.9166939734648067.\n",
      "[I 2020-09-03 12:37:25,846] Trial 141 finished with value: 0.9160446228154562 and parameters: {'n_estimators': 330, 'max_depth': 15, 'max_features': 4, 'bootstrap': True, 'min_samples_split': 0.2, 'min_samples_leaf': 0.1}. Best is trial 114 with value: 0.9166939734648067.\n",
      "[I 2020-09-03 12:37:27,400] Trial 142 finished with value: 0.9160446228154562 and parameters: {'n_estimators': 330, 'max_depth': 16, 'max_features': 4, 'bootstrap': True, 'min_samples_split': 0.2, 'min_samples_leaf': 0.1}. Best is trial 114 with value: 0.9166939734648067.\n",
      "[I 2020-09-03 12:37:29,037] Trial 143 finished with value: 0.9160446228154562 and parameters: {'n_estimators': 330, 'max_depth': 17, 'max_features': 4, 'bootstrap': True, 'min_samples_split': 0.2, 'min_samples_leaf': 0.1}. Best is trial 114 with value: 0.9166939734648067.\n",
      "[I 2020-09-03 12:37:30,252] Trial 144 finished with value: 0.9164855399230399 and parameters: {'n_estimators': 300, 'max_depth': 19, 'max_features': 4, 'bootstrap': True, 'min_samples_split': 0.2, 'min_samples_leaf': 0.1}. Best is trial 114 with value: 0.9166939734648067.\n",
      "[I 2020-09-03 12:37:31,593] Trial 145 finished with value: 0.9129546957671957 and parameters: {'n_estimators': 300, 'max_depth': 17, 'max_features': 5, 'bootstrap': True, 'min_samples_split': 0.2, 'min_samples_leaf': 0.1}. Best is trial 114 with value: 0.9166939734648067.\n",
      "[I 2020-09-03 12:37:33,128] Trial 146 finished with value: 0.9108147446689113 and parameters: {'n_estimators': 300, 'max_depth': 16, 'max_features': 4, 'bootstrap': True, 'min_samples_split': 0.30000000000000004, 'min_samples_leaf': 0.1}. Best is trial 114 with value: 0.9166939734648067.\n"
     ]
    },
    {
     "name": "stderr",
     "output_type": "stream",
     "text": [
      "[I 2020-09-03 12:37:34,545] Trial 147 finished with value: 0.9166939734648067 and parameters: {'n_estimators': 340, 'max_depth': 15, 'max_features': 4, 'bootstrap': True, 'min_samples_split': 0.2, 'min_samples_leaf': 0.1}. Best is trial 114 with value: 0.9166939734648067.\n",
      "[I 2020-09-03 12:37:35,998] Trial 148 finished with value: 0.9124854697771363 and parameters: {'n_estimators': 340, 'max_depth': 14, 'max_features': 3, 'bootstrap': True, 'min_samples_split': 0.2, 'min_samples_leaf': 0.1}. Best is trial 114 with value: 0.9166939734648067.\n",
      "[I 2020-09-03 12:37:37,456] Trial 149 finished with value: 0.9162826178451178 and parameters: {'n_estimators': 290, 'max_depth': 18, 'max_features': 4, 'bootstrap': True, 'min_samples_split': 0.2, 'min_samples_leaf': 0.1}. Best is trial 114 with value: 0.9166939734648067.\n",
      "[I 2020-09-03 12:37:38,951] Trial 150 finished with value: 0.5 and parameters: {'n_estimators': 360, 'max_depth': 19, 'max_features': 3, 'bootstrap': True, 'min_samples_split': 1.0, 'min_samples_leaf': 0.1}. Best is trial 114 with value: 0.9166939734648067.\n",
      "[I 2020-09-03 12:37:39,986] Trial 151 finished with value: 0.9162678371011703 and parameters: {'n_estimators': 280, 'max_depth': 18, 'max_features': 4, 'bootstrap': True, 'min_samples_split': 0.2, 'min_samples_leaf': 0.1}. Best is trial 114 with value: 0.9166939734648067.\n",
      "[I 2020-09-03 12:37:41,418] Trial 152 finished with value: 0.9162555615680615 and parameters: {'n_estimators': 250, 'max_depth': 18, 'max_features': 4, 'bootstrap': True, 'min_samples_split': 0.2, 'min_samples_leaf': 0.1}. Best is trial 114 with value: 0.9166939734648067.\n",
      "[I 2020-09-03 12:37:42,843] Trial 153 finished with value: 0.9158294252044252 and parameters: {'n_estimators': 310, 'max_depth': 20, 'max_features': 4, 'bootstrap': True, 'min_samples_split': 0.2, 'min_samples_leaf': 0.1}. Best is trial 114 with value: 0.9166939734648067.\n",
      "[I 2020-09-03 12:37:44,590] Trial 154 finished with value: 0.9151708052749719 and parameters: {'n_estimators': 320, 'max_depth': 17, 'max_features': 4, 'bootstrap': True, 'min_samples_split': 0.2, 'min_samples_leaf': 0.1}. Best is trial 114 with value: 0.9166939734648067.\n",
      "[I 2020-09-03 12:37:45,881] Trial 155 finished with value: 0.9129682239057239 and parameters: {'n_estimators': 290, 'max_depth': 15, 'max_features': 5, 'bootstrap': True, 'min_samples_split': 0.2, 'min_samples_leaf': 0.1}. Best is trial 114 with value: 0.9166939734648067.\n",
      "[I 2020-09-03 12:37:47,260] Trial 156 finished with value: 0.5 and parameters: {'n_estimators': 340, 'max_depth': 18, 'max_features': 4, 'bootstrap': True, 'min_samples_split': 0.8, 'min_samples_leaf': 0.1}. Best is trial 114 with value: 0.9166939734648067.\n",
      "[I 2020-09-03 12:37:48,603] Trial 157 finished with value: 0.9133635461760463 and parameters: {'n_estimators': 320, 'max_depth': 19, 'max_features': 3, 'bootstrap': True, 'min_samples_split': 0.1, 'min_samples_leaf': 0.1}. Best is trial 114 with value: 0.9166939734648067.\n",
      "[I 2020-09-03 12:37:50,073] Trial 158 finished with value: 0.9164855399230399 and parameters: {'n_estimators': 300, 'max_depth': 16, 'max_features': 4, 'bootstrap': True, 'min_samples_split': 0.2, 'min_samples_leaf': 0.1}. Best is trial 114 with value: 0.9166939734648067.\n",
      "[I 2020-09-03 12:37:51,167] Trial 159 finished with value: 0.9158294252044252 and parameters: {'n_estimators': 310, 'max_depth': 14, 'max_features': 4, 'bootstrap': True, 'min_samples_split': 0.2, 'min_samples_leaf': 0.1}. Best is trial 114 with value: 0.9166939734648067.\n",
      "[I 2020-09-03 12:37:52,756] Trial 160 finished with value: 0.8931526324755492 and parameters: {'n_estimators': 350, 'max_depth': 16, 'max_features': 12, 'bootstrap': True, 'min_samples_split': 0.30000000000000004, 'min_samples_leaf': 0.1}. Best is trial 114 with value: 0.9166939734648067.\n",
      "[I 2020-09-03 12:37:54,245] Trial 161 finished with value: 0.9162826178451178 and parameters: {'n_estimators': 290, 'max_depth': 17, 'max_features': 4, 'bootstrap': True, 'min_samples_split': 0.2, 'min_samples_leaf': 0.1}. Best is trial 114 with value: 0.9166939734648067.\n",
      "[I 2020-09-03 12:37:55,435] Trial 162 finished with value: 0.9160446228154562 and parameters: {'n_estimators': 270, 'max_depth': 17, 'max_features': 4, 'bootstrap': True, 'min_samples_split': 0.2, 'min_samples_leaf': 0.1}. Best is trial 114 with value: 0.9166939734648067.\n",
      "[I 2020-09-03 12:37:56,595] Trial 163 finished with value: 0.9164855399230399 and parameters: {'n_estimators': 300, 'max_depth': 16, 'max_features': 4, 'bootstrap': True, 'min_samples_split': 0.2, 'min_samples_leaf': 0.1}. Best is trial 114 with value: 0.9166939734648067.\n",
      "[I 2020-09-03 12:37:58,409] Trial 164 finished with value: 0.9166939734648067 and parameters: {'n_estimators': 340, 'max_depth': 15, 'max_features': 4, 'bootstrap': True, 'min_samples_split': 0.2, 'min_samples_leaf': 0.1}. Best is trial 114 with value: 0.9166939734648067.\n",
      "[I 2020-09-03 12:38:00,059] Trial 165 finished with value: 0.9166939734648067 and parameters: {'n_estimators': 340, 'max_depth': 15, 'max_features': 4, 'bootstrap': True, 'min_samples_split': 0.2, 'min_samples_leaf': 0.1}. Best is trial 114 with value: 0.9166939734648067.\n",
      "[I 2020-09-03 12:38:01,530] Trial 166 finished with value: 0.9166939734648067 and parameters: {'n_estimators': 340, 'max_depth': 15, 'max_features': 4, 'bootstrap': True, 'min_samples_split': 0.2, 'min_samples_leaf': 0.1}. Best is trial 114 with value: 0.9166939734648067.\n",
      "[I 2020-09-03 12:38:03,000] Trial 167 finished with value: 0.9127369929453263 and parameters: {'n_estimators': 360, 'max_depth': 14, 'max_features': 5, 'bootstrap': True, 'min_samples_split': 0.1, 'min_samples_leaf': 0.1}. Best is trial 114 with value: 0.9166939734648067.\n",
      "[I 2020-09-03 12:38:04,449] Trial 168 finished with value: 0.9124854697771363 and parameters: {'n_estimators': 340, 'max_depth': 15, 'max_features': 3, 'bootstrap': True, 'min_samples_split': 0.2, 'min_samples_leaf': 0.1}. Best is trial 114 with value: 0.9166939734648067.\n",
      "[I 2020-09-03 12:38:06,023] Trial 169 finished with value: 0.9160446228154562 and parameters: {'n_estimators': 330, 'max_depth': 13, 'max_features': 4, 'bootstrap': True, 'min_samples_split': 0.2, 'min_samples_leaf': 0.1}. Best is trial 114 with value: 0.9166939734648067.\n",
      "[I 2020-09-03 12:38:07,264] Trial 170 finished with value: 0.9114320286195285 and parameters: {'n_estimators': 350, 'max_depth': 15, 'max_features': 5, 'bootstrap': True, 'min_samples_split': 0.30000000000000004, 'min_samples_leaf': 0.1}. Best is trial 114 with value: 0.9166939734648067.\n",
      "[I 2020-09-03 12:38:09,051] Trial 171 finished with value: 0.9166939734648067 and parameters: {'n_estimators': 340, 'max_depth': 16, 'max_features': 4, 'bootstrap': True, 'min_samples_split': 0.2, 'min_samples_leaf': 0.1}. Best is trial 114 with value: 0.9166939734648067.\n",
      "[I 2020-09-03 12:38:10,383] Trial 172 finished with value: 0.9166939734648067 and parameters: {'n_estimators': 340, 'max_depth': 16, 'max_features': 4, 'bootstrap': True, 'min_samples_split': 0.2, 'min_samples_leaf': 0.1}. Best is trial 114 with value: 0.9166939734648067.\n",
      "[I 2020-09-03 12:38:12,032] Trial 173 finished with value: 0.9166939734648067 and parameters: {'n_estimators': 340, 'max_depth': 15, 'max_features': 4, 'bootstrap': True, 'min_samples_split': 0.2, 'min_samples_leaf': 0.1}. Best is trial 114 with value: 0.9166939734648067.\n",
      "[I 2020-09-03 12:38:13,262] Trial 174 finished with value: 0.9151369849286516 and parameters: {'n_estimators': 360, 'max_depth': 13, 'max_features': 4, 'bootstrap': True, 'min_samples_split': 0.2, 'min_samples_leaf': 0.1}. Best is trial 114 with value: 0.9166939734648067.\n",
      "[I 2020-09-03 12:38:15,007] Trial 175 finished with value: 0.9166939734648067 and parameters: {'n_estimators': 340, 'max_depth': 15, 'max_features': 4, 'bootstrap': True, 'min_samples_split': 0.2, 'min_samples_leaf': 0.1}. Best is trial 114 with value: 0.9166939734648067.\n",
      "[I 2020-09-03 12:38:16,398] Trial 176 finished with value: 0.9166939734648067 and parameters: {'n_estimators': 340, 'max_depth': 15, 'max_features': 4, 'bootstrap': True, 'min_samples_split': 0.2, 'min_samples_leaf': 0.1}. Best is trial 114 with value: 0.9166939734648067.\n"
     ]
    },
    {
     "name": "stderr",
     "output_type": "stream",
     "text": [
      "[I 2020-09-03 12:38:18,010] Trial 177 finished with value: 0.9124854697771363 and parameters: {'n_estimators': 340, 'max_depth': 15, 'max_features': 3, 'bootstrap': True, 'min_samples_split': 0.2, 'min_samples_leaf': 0.1}. Best is trial 114 with value: 0.9166939734648067.\n",
      "[I 2020-09-03 12:38:19,250] Trial 178 finished with value: 0.9151369849286516 and parameters: {'n_estimators': 360, 'max_depth': 14, 'max_features': 4, 'bootstrap': True, 'min_samples_split': 0.2, 'min_samples_leaf': 0.1}. Best is trial 114 with value: 0.9166939734648067.\n",
      "[I 2020-09-03 12:38:21,199] Trial 179 finished with value: 0.9166939734648067 and parameters: {'n_estimators': 340, 'max_depth': 15, 'max_features': 4, 'bootstrap': True, 'min_samples_split': 0.1, 'min_samples_leaf': 0.1}. Best is trial 114 with value: 0.9166939734648067.\n",
      "[I 2020-09-03 12:38:23,054] Trial 180 finished with value: 0.9124977453102453 and parameters: {'n_estimators': 380, 'max_depth': 14, 'max_features': 5, 'bootstrap': True, 'min_samples_split': 0.1, 'min_samples_leaf': 0.1}. Best is trial 114 with value: 0.9166939734648067.\n",
      "[I 2020-09-03 12:38:24,618] Trial 181 finished with value: 0.9155821608946608 and parameters: {'n_estimators': 350, 'max_depth': 15, 'max_features': 4, 'bootstrap': True, 'min_samples_split': 0.2, 'min_samples_leaf': 0.1}. Best is trial 114 with value: 0.9166939734648067.\n",
      "[I 2020-09-03 12:38:26,065] Trial 182 finished with value: 0.9166939734648067 and parameters: {'n_estimators': 340, 'max_depth': 15, 'max_features': 4, 'bootstrap': True, 'min_samples_split': 0.1, 'min_samples_leaf': 0.1}. Best is trial 114 with value: 0.9166939734648067.\n",
      "[I 2020-09-03 12:38:27,612] Trial 183 finished with value: 0.9160446228154562 and parameters: {'n_estimators': 330, 'max_depth': 15, 'max_features': 4, 'bootstrap': True, 'min_samples_split': 0.1, 'min_samples_leaf': 0.1}. Best is trial 114 with value: 0.9166939734648067.\n",
      "[I 2020-09-03 12:38:29,231] Trial 184 finished with value: 0.9155821608946608 and parameters: {'n_estimators': 350, 'max_depth': 15, 'max_features': 4, 'bootstrap': True, 'min_samples_split': 0.1, 'min_samples_leaf': 0.1}. Best is trial 114 with value: 0.9166939734648067.\n",
      "[I 2020-09-03 12:38:30,466] Trial 185 finished with value: 0.9160446228154562 and parameters: {'n_estimators': 330, 'max_depth': 13, 'max_features': 4, 'bootstrap': True, 'min_samples_split': 0.1, 'min_samples_leaf': 0.1}. Best is trial 114 with value: 0.9166939734648067.\n",
      "[I 2020-09-03 12:38:32,170] Trial 186 finished with value: 0.9151708052749719 and parameters: {'n_estimators': 320, 'max_depth': 14, 'max_features': 4, 'bootstrap': True, 'min_samples_split': 0.1, 'min_samples_leaf': 0.1}. Best is trial 114 with value: 0.9166939734648067.\n",
      "[I 2020-09-03 12:38:33,704] Trial 187 finished with value: 0.9124854697771363 and parameters: {'n_estimators': 340, 'max_depth': 16, 'max_features': 3, 'bootstrap': True, 'min_samples_split': 0.1, 'min_samples_leaf': 0.1}. Best is trial 114 with value: 0.9166939734648067.\n",
      "[I 2020-09-03 12:38:35,612] Trial 188 finished with value: 0.9151450016033348 and parameters: {'n_estimators': 370, 'max_depth': 17, 'max_features': 4, 'bootstrap': True, 'min_samples_split': 0.2, 'min_samples_leaf': 0.1}. Best is trial 114 with value: 0.9166939734648067.\n",
      "[I 2020-09-03 12:38:36,942] Trial 189 finished with value: 0.9155821608946608 and parameters: {'n_estimators': 350, 'max_depth': 16, 'max_features': 4, 'bootstrap': True, 'min_samples_split': 0.2, 'min_samples_leaf': 0.1}. Best is trial 114 with value: 0.9166939734648067.\n",
      "[I 2020-09-03 12:38:38,644] Trial 190 finished with value: 0.9166939734648067 and parameters: {'n_estimators': 340, 'max_depth': 15, 'max_features': 4, 'bootstrap': True, 'min_samples_split': 0.2, 'min_samples_leaf': 0.1}. Best is trial 114 with value: 0.9166939734648067.\n",
      "[I 2020-09-03 12:38:40,035] Trial 191 finished with value: 0.9166939734648067 and parameters: {'n_estimators': 340, 'max_depth': 16, 'max_features': 4, 'bootstrap': True, 'min_samples_split': 0.2, 'min_samples_leaf': 0.1}. Best is trial 114 with value: 0.9166939734648067.\n",
      "[I 2020-09-03 12:38:41,633] Trial 192 finished with value: 0.9160446228154562 and parameters: {'n_estimators': 330, 'max_depth': 17, 'max_features': 4, 'bootstrap': True, 'min_samples_split': 0.2, 'min_samples_leaf': 0.1}. Best is trial 114 with value: 0.9166939734648067.\n",
      "[I 2020-09-03 12:38:42,811] Trial 193 finished with value: 0.9151708052749719 and parameters: {'n_estimators': 320, 'max_depth': 16, 'max_features': 4, 'bootstrap': True, 'min_samples_split': 0.2, 'min_samples_leaf': 0.1}. Best is trial 114 with value: 0.9166939734648067.\n",
      "[I 2020-09-03 12:38:44,707] Trial 194 finished with value: 0.9151369849286516 and parameters: {'n_estimators': 360, 'max_depth': 14, 'max_features': 4, 'bootstrap': True, 'min_samples_split': 0.2, 'min_samples_leaf': 0.1}. Best is trial 114 with value: 0.9166939734648067.\n",
      "[I 2020-09-03 12:38:46,373] Trial 195 finished with value: 0.9155821608946608 and parameters: {'n_estimators': 350, 'max_depth': 15, 'max_features': 4, 'bootstrap': True, 'min_samples_split': 0.2, 'min_samples_leaf': 0.1}. Best is trial 114 with value: 0.9166939734648067.\n",
      "[I 2020-09-03 12:38:47,927] Trial 196 finished with value: 0.9114468093634759 and parameters: {'n_estimators': 320, 'max_depth': 16, 'max_features': 5, 'bootstrap': True, 'min_samples_split': 0.30000000000000004, 'min_samples_leaf': 0.1}. Best is trial 114 with value: 0.9166939734648067.\n",
      "[I 2020-09-03 12:38:49,247] Trial 197 finished with value: 0.9166939734648067 and parameters: {'n_estimators': 340, 'max_depth': 14, 'max_features': 4, 'bootstrap': True, 'min_samples_split': 0.2, 'min_samples_leaf': 0.1}. Best is trial 114 with value: 0.9166939734648067.\n",
      "[I 2020-09-03 12:38:51,011] Trial 198 finished with value: 0.9166939734648067 and parameters: {'n_estimators': 340, 'max_depth': 15, 'max_features': 4, 'bootstrap': True, 'min_samples_split': 0.2, 'min_samples_leaf': 0.1}. Best is trial 114 with value: 0.9166939734648067.\n",
      "[I 2020-09-03 12:38:52,494] Trial 199 finished with value: 0.9122584976751643 and parameters: {'n_estimators': 330, 'max_depth': 13, 'max_features': 3, 'bootstrap': True, 'min_samples_split': 0.2, 'min_samples_leaf': 0.1}. Best is trial 114 with value: 0.9166939734648067.\n"
     ]
    }
   ],
   "source": [
    "hd_study.optimize(objective, n_trials=200, callbacks=[mlflow_cb])"
   ]
  },
  {
   "cell_type": "markdown",
   "metadata": {},
   "source": [
    "The mlflow logged experiment including assessed hyper-parameter configurations for the Random Forest classifier (Optuna study/trials), are stored in a folder called mlruns. To view these results using the mlflow user interface, do the following:\n",
    "\n",
    "1. Open a shell (for example a Windows PowerShell) in the directory containing the mlruns folder\n",
    "2. Activate the virtual environment used for this notebook, i.e., `conda activate optuna_env`\n",
    "3. Run `mlflow ui`\n",
    "4. Navigate to the localhost address provided, something like: `http://kubernetes.docker.internal:5000/`\n",
    "\n",
    "You should see **Figure 1**, and you can sift through the experiment trials. I deselected the user, source and version columns, as well as the tags section to simplify the view. I also sorted the results by ROC AUC. The top hyper-parameter configurations provided a ROC AUC of 0.917, where max_depth was in the range 14 to 16, max_features was 4, min_samples_leaf was 0.1, min_samples_split was 0.2, and n_estimators was 340 (note these results may differ slightly for you if you re-run the notebook)."
   ]
  },
  {
   "cell_type": "markdown",
   "metadata": {},
   "source": [
    "![](mlflow_ui_snip.PNG)\n",
    "\n",
    "**Figure 1**: mlflow summary for Optuna HPO of our heart disease random Forest classifier"
   ]
  },
  {
   "cell_type": "markdown",
   "metadata": {
    "ExecuteTime": {
     "end_time": "2020-08-31T21:26:25.011020Z",
     "start_time": "2020-08-31T21:26:24.835985Z"
    }
   },
   "source": [
    "Optuna also has some great built in visualization tools for summarizing your experiments as well. Here we look at hyper-parameter importance first and display the optimization history. The hyper-parameter importance is calculated using a functional ANOVA approach and for more information please see the article by [Hutter, Hoos and Leyton-Brown 2014](http://proceedings.mlr.press/v32/hutter14.pdf)."
   ]
  },
  {
   "cell_type": "code",
   "execution_count": 15,
   "metadata": {
    "ExecuteTime": {
     "end_time": "2020-09-04T10:42:42.649480Z",
     "start_time": "2020-09-04T10:42:37.784223Z"
    }
   },
   "outputs": [
    {
     "data": {
      "application/vnd.jupyter.widget-view+json": {
       "model_id": "0166299d18c54dd9a3b988ce0115cb1e",
       "version_major": 2,
       "version_minor": 0
      },
      "text/plain": [
       "HBox(children=(FigureWidget({\n",
       "    'data': [{'cliponaxis': False,\n",
       "              'hovertemplate': [max_features …"
      ]
     },
     "metadata": {},
     "output_type": "display_data"
    }
   ],
   "source": [
    "# Lets create a panel with a couple of optuna built-in visulizations: note the update_layout() used here is just to ensure \n",
    "# everything displays without being cutoff.\n",
    "\n",
    "fig1 = optuna.visualization.plot_optimization_history(hd_study)\n",
    "fw1 = go.FigureWidget(fig1)\n",
    "fw1.update_layout(width=610, margin=dict(r=250))\n",
    "\n",
    "fig2 = optuna.visualization.plot_param_importances(hd_study)\n",
    "fw2 = go.FigureWidget(fig2)\n",
    "fw2.update_layout(margin=dict(r=100))\n",
    "\n",
    "fig_subplots=ipyw.HBox([fw2, fw1])\n",
    "fig_subplots"
   ]
  },
  {
   "cell_type": "markdown",
   "metadata": {},
   "source": [
    "# Summary\n",
    "\n",
    "Optuna has come along way since its inception and version 2.0 released in July this year has some fantastic additions, one of which we touched upon in this short article: the mlflow callback. Perhaps as expected the tuning worked great and the summaries available via the in-built visualizations in Optuna and using the mlflow UI made this a lot of fun. It all ran smoothly even with a decent preprocessing pipeline and half a dozen hyper-parameters to tune."
   ]
  }
 ],
 "metadata": {
  "kernelspec": {
   "display_name": "optuna_env",
   "language": "python",
   "name": "optuna_env"
  },
  "language_info": {
   "codemirror_mode": {
    "name": "ipython",
    "version": 3
   },
   "file_extension": ".py",
   "mimetype": "text/x-python",
   "name": "python",
   "nbconvert_exporter": "python",
   "pygments_lexer": "ipython3",
   "version": "3.7.7"
  }
 },
 "nbformat": 4,
 "nbformat_minor": 2
}
